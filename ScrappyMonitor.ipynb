{
  "cells": [
    {
      "cell_type": "markdown",
      "metadata": {
        "id": "9kJ2wxA5CctZ",
        "colab_type": "text"
      },
      "source": [
        "# Scrapper para Twitter\n",
        "\n",
        "O script abaixo é um scrapper simples para twitter, ele pega em um intervalo de tempo determinado os tuites mais recentes especificados dentro de uma query especificada pelo usuário."
      ]
    },
    {
      "cell_type": "markdown",
      "metadata": {
        "id": "IJy8Rkb3C_mV",
        "colab_type": "text"
      },
      "source": [
        "Acesso ao drive para salvamento dos arquivos necessários para a varredura e resultado final da busca em um arquivo no formato XLSX.\n"
      ]
    },
    {
      "cell_type": "code",
      "metadata": {
        "id": "4G4aPkccCbRb",
        "colab_type": "code",
        "colab": {
          "base_uri": "https://localhost:8080/",
          "height": 122
        },
        "outputId": "df38b1d7-13eb-4959-8e2d-c9350052bc05"
      },
      "source": [
        "from google.colab import drive\n",
        "drive.mount('/content/drive')"
      ],
      "execution_count": null,
      "outputs": [
        {
          "output_type": "stream",
          "text": [
            "Go to this URL in a browser: https://accounts.google.com/o/oauth2/auth?client_id=947318989803-6bn6qk8qdgf4n4g3pfee6491hc0brc4i.apps.googleusercontent.com&redirect_uri=urn%3aietf%3awg%3aoauth%3a2.0%3aoob&response_type=code&scope=email%20https%3a%2f%2fwww.googleapis.com%2fauth%2fdocs.test%20https%3a%2f%2fwww.googleapis.com%2fauth%2fdrive%20https%3a%2f%2fwww.googleapis.com%2fauth%2fdrive.photos.readonly%20https%3a%2f%2fwww.googleapis.com%2fauth%2fpeopleapi.readonly\n",
            "\n",
            "Enter your authorization code:\n",
            "··········\n",
            "Mounted at /content/drive\n"
          ],
          "name": "stdout"
        }
      ]
    },
    {
      "cell_type": "markdown",
      "metadata": {
        "id": "Xy5KkJvCDWzc",
        "colab_type": "text"
      },
      "source": [
        "Importação dos módulos necessários para o funcionamento do script."
      ]
    },
    {
      "cell_type": "code",
      "metadata": {
        "id": "wTCzos-rDeCP",
        "colab_type": "code",
        "colab": {}
      },
      "source": [
        "import tweepy\n",
        "import time\n",
        "import datetime\n",
        "import pandas as pd\n",
        "from IPython.display import clear_output"
      ],
      "execution_count": null,
      "outputs": []
    },
    {
      "cell_type": "markdown",
      "metadata": {
        "id": "W9TpUc_2ECg8",
        "colab_type": "text"
      },
      "source": [
        "Credenciais necessárias para acesso à API do Twitter."
      ]
    },
    {
      "cell_type": "code",
      "metadata": {
        "id": "LTlHoaw5D5SX",
        "colab_type": "code",
        "colab": {}
      },
      "source": [
        "consumer_key = \"\"\n",
        "consumer_secret = \"\"\n",
        "access_token = \"\"\n",
        "access_token_secret = \"\""
      ],
      "execution_count": null,
      "outputs": []
    },
    {
      "cell_type": "markdown",
      "metadata": {
        "id": "lA2ru3JBERxB",
        "colab_type": "text"
      },
      "source": [
        "Iniciando a API do Twitter"
      ]
    },
    {
      "cell_type": "code",
      "metadata": {
        "id": "Naf8vnE7EV0L",
        "colab_type": "code",
        "colab": {}
      },
      "source": [
        "auth = tweepy.OAuthHandler(consumer_key, consumer_secret)\n",
        "auth.set_access_token(access_token, access_token_secret)\n",
        "api = tweepy.API(auth,wait_on_rate_limit=True)"
      ],
      "execution_count": null,
      "outputs": []
    },
    {
      "cell_type": "markdown",
      "metadata": {
        "id": "BjgK22ibEsaI",
        "colab_type": "text"
      },
      "source": [
        "Declaração de função que ajudará a manter a lista com os últimos tuites capturados em um tamanho aceitável"
      ]
    },
    {
      "cell_type": "code",
      "metadata": {
        "id": "FGJforWOE4Dm",
        "colab_type": "code",
        "colab": {}
      },
      "source": [
        "def sizable_list(original_list):\n",
        "    if len(original_list) >= 200:\n",
        "        return original_list[-100:]\n",
        "    if len(original_list) >= 100:\n",
        "        return original_list[-50:]\n",
        "    else:\n",
        "        return original_list"
      ],
      "execution_count": null,
      "outputs": []
    },
    {
      "cell_type": "markdown",
      "metadata": {
        "id": "8sJtWlJdE6WX",
        "colab_type": "text"
      },
      "source": [
        "**IMPORTANTE!**\n",
        "\n",
        "Adicione entre aspas a query que você pretende buscar na variável `text_query` e quantas vezes o código vai buscar por novos tuites na variável `limit`*.\n",
        "\n",
        "**OBS: Cada iteração foi configurada para rodar a cada 5 segundos, então tenha isso em mente para quando for configurar este parâmetro.*\n",
        "\n",
        "Ex:\n",
        "\n",
        "\n",
        "*   `limit = 2` representará 10 segundos de busca\n",
        "\n",
        "*   `limit = 12` representará 1 minuto de busca\n",
        "\n",
        "*   `limit = 600` representará 30 minutos de busca\n",
        "\n"
      ]
    },
    {
      "cell_type": "code",
      "metadata": {
        "id": "jU12VDG5FQ1k",
        "colab_type": "code",
        "colab": {}
      },
      "source": [
        "text_query = 'bolsonaro'\n",
        "limit = 5"
      ],
      "execution_count": null,
      "outputs": []
    },
    {
      "cell_type": "markdown",
      "metadata": {
        "id": "vBQUAGwlJSlD",
        "colab_type": "text"
      },
      "source": [
        "Cria a lista temporária de moniroramento."
      ]
    },
    {
      "cell_type": "code",
      "metadata": {
        "id": "J6cJWs7rJQ5a",
        "colab_type": "code",
        "colab": {}
      },
      "source": [
        "monitoring = pd.DataFrame({}, columns=['time', 'tweet_id', 'account', 'user_name', 'profile_location', 'tweet_text', 'tweet_url'], index=None)\n",
        "monitoring.to_csv('monitoring.csv', index=False )"
      ],
      "execution_count": null,
      "outputs": []
    },
    {
      "cell_type": "markdown",
      "metadata": {
        "id": "uHDlNB4DFYB1",
        "colab_type": "text"
      },
      "source": [
        "Parâmetros para o funcionamento da busca:\n",
        "\n",
        "\n",
        "*   tweets = lista de tuites resgatado por busca\n",
        "*   count = número de tuites resgatado por busca (máximo 100)\n",
        "*   counter = contador de iterações\n",
        "*   data_frame_size = garante que o tamanho do data frame será passado como um numeral mesmo se vazio.\n",
        "\n",
        "\n"
      ]
    },
    {
      "cell_type": "code",
      "metadata": {
        "id": "OLTBPyVhFbmi",
        "colab_type": "code",
        "colab": {}
      },
      "source": [
        "tweets = []\n",
        "count = 100\n",
        "\n",
        "counter = 0\n",
        "data_frame_size = monitoring.index.max() if type(monitoring.index.max()) == type(0) else 0\n",
        "tweet_list = sizable_list(monitoring['tweet_id'].tolist())"
      ],
      "execution_count": null,
      "outputs": []
    },
    {
      "cell_type": "markdown",
      "metadata": {
        "id": "Vbf8KpyEIMEo",
        "colab_type": "text"
      },
      "source": [
        "Script que faz toda a magia"
      ]
    },
    {
      "cell_type": "code",
      "metadata": {
        "id": "JNEQzpOMIPKY",
        "colab_type": "code",
        "colab": {
          "base_uri": "https://localhost:8080/",
          "height": 85
        },
        "outputId": "69b7d651-1ebc-49b7-d6dd-1403bb72b5e7"
      },
      "source": [
        "while counter < limit:\n",
        "\n",
        "    clear_output(wait=True)\n",
        "    tweets = []\n",
        "    print('Running')\n",
        "    try:\n",
        "        # Pulling individual tweets from query\n",
        "        for tweet in api.search(q=text_query, count=count, tweet_mode=\"extended\", result_type=\"recent\"):\n",
        "            # Adding to list that contains all tweets\n",
        "            # print(tweet)\n",
        "            if not (tweet.full_text[0:2] == \"RT\") and not tweet.id in tweet_list:\n",
        "                tweet_list.append(tweet.id)\n",
        "                tweets.append([tweet.created_at, tweet.id, tweet.user.screen_name, tweet.user.name, tweet.user.location, tweet.full_text, f'http://www.twitter.com/{tweet.user.screen_name}/status/{tweet.id}'])\n",
        "\n",
        "                data_frame_size += 1\n",
        "\n",
        "    except BaseException as e:\n",
        "        print('failed on_status,',str(e))\n",
        "\n",
        "    # Export code\n",
        "    tweets_df = pd.DataFrame(tweets, index=None)\n",
        "    tweets_df.to_csv('monitoring.csv', mode='a', index=False, header=False)\n",
        "\n",
        "    print(f'last tweet ID: {tweet_list[-1]}')\n",
        "    print(f'tweets collected: {data_frame_size}')\n",
        "    print(f'current iteration {counter+1}/{limit}')\n",
        "\n",
        "    counter += 1\n",
        "    time.sleep(5)\n",
        "\n",
        "    if (data_frame_size >= 500000):\n",
        "        print(\"Done\")\n",
        "        break"
      ],
      "execution_count": null,
      "outputs": [
        {
          "output_type": "stream",
          "text": [
            "Running\n",
            "last tweet ID: 1268632741853179905\n",
            "tweets collected: 36\n",
            "current iteration 5/5\n"
          ],
          "name": "stdout"
        }
      ]
    },
    {
      "cell_type": "markdown",
      "metadata": {
        "id": "JPOO8qBBIbKm",
        "colab_type": "text"
      },
      "source": [
        "Parte final do código onde é salvo a planilha."
      ]
    },
    {
      "cell_type": "code",
      "metadata": {
        "id": "oIECli0pIjft",
        "colab_type": "code",
        "colab": {}
      },
      "source": [
        "final = pd.read_csv('monitoring.csv', index_col=False)\n",
        "final.to_excel(f'{text_query}_{datetime.datetime.now()}.xlsx', index=False )"
      ],
      "execution_count": null,
      "outputs": []
    },
    {
      "cell_type": "code",
      "metadata": {
        "id": "5v2jIFnhKob3",
        "colab_type": "code",
        "colab": {}
      },
      "source": [
        ""
      ],
      "execution_count": null,
      "outputs": []
    }
  ],
  "metadata": {
    "colab": {
      "name": "ScrappyMonitor.ipynb",
      "provenance": [],
      "collapsed_sections": [],
      "toc_visible": true
    },
    "kernelspec": {
      "name": "python3",
      "display_name": "Python 3"
    }
  },
  "nbformat": 4,
  "nbformat_minor": 0
}